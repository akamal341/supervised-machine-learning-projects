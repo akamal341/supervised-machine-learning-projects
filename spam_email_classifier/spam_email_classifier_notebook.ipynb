{
 "cells": [
  {
   "cell_type": "markdown",
   "id": "c176c2ed",
   "metadata": {},
   "source": [
    "# Spam Email Detection using Various Classification Models\n",
    "\n",
    "## Project Overview\n",
    "\n",
    "In this project, we will build several classification models to detect spam emails and calculate useful metrics to evaluate the performance of these models. The primary focus will be on understanding the precision/recall tradeoff in the context of spam detection. We'll use several techniques, including dummy classifiers, Support Vector Classification (SVC), and Logistic Regression."
   ]
  },
  {
   "cell_type": "markdown",
   "id": "4e108545",
   "metadata": {},
   "source": [
    "## 1. Data Import and Preparation\n",
    "\n",
    "First, we import the necessary packages and load the dataset. We will also prepare the data by splitting it into training and test sets and normalizing the features."
   ]
  },
  {
   "cell_type": "code",
   "execution_count": 2,
   "id": "12b42e7d",
   "metadata": {},
   "outputs": [],
   "source": [
    "# Suppress all warnings only when absolutely necessary\n",
    "import warnings\n",
    "warnings.filterwarnings('ignore')\n",
    "\n",
    "import matplotlib.pyplot as plt\n",
    "import numpy as np\n",
    "import pandas as pd\n",
    "import seaborn as sns\n",
    "from sklearn.metrics import ConfusionMatrixDisplay, confusion_matrix\n",
    "from sklearn.dummy import DummyClassifier\n",
    "from sklearn.metrics import precision_score, recall_score, accuracy_score\n",
    "from sklearn.svm import SVC\n",
    "from sklearn.linear_model import LogisticRegression\n",
    "from sklearn.metrics import precision_recall_curve\n",
    "from sklearn.model_selection import GridSearchCV, train_test_split\n",
    "from sklearn.preprocessing import StandardScaler\n",
    "\n",
    "np.set_printoptions(precision=5)"
   ]
  },
  {
   "cell_type": "code",
   "execution_count": 4,
   "id": "b0d7d145",
   "metadata": {},
   "outputs": [],
   "source": [
    "# Load the data\n",
    "df = pd.read_csv(r'C:/users/akama/downloads/spam_email_classifier/spam.csv')\n",
    "X = df.iloc[:, :-1]\n",
    "y = df.iloc[:, -1]"
   ]
  },
  {
   "cell_type": "code",
   "execution_count": 5,
   "id": "52ef6b5b",
   "metadata": {},
   "outputs": [],
   "source": [
    "# Split the data into training and testing sets\n",
    "X_train_raw, X_test_raw, y_train, y_test = train_test_split(X, y, random_state=0)"
   ]
  },
  {
   "cell_type": "code",
   "execution_count": 6,
   "id": "9d127bb2",
   "metadata": {},
   "outputs": [],
   "source": [
    "# Normalize the features\n",
    "scaler = StandardScaler().fit(X_train_raw)\n",
    "X_train = scaler.transform(X_train_raw)\n",
    "X_test = scaler.transform(X_test_raw)"
   ]
  },
  {
   "cell_type": "code",
   "execution_count": 7,
   "id": "31ab93f4",
   "metadata": {},
   "outputs": [
    {
     "name": "stdout",
     "output_type": "stream",
     "text": [
      "Ratio of regular to spam emails: 1.54\n"
     ]
    }
   ],
   "source": [
    "# Display the ratio of class labels\n",
    "spam_ratio = len(df[df['Class'] == 0]) / len(df[df['Class'] == 1])\n",
    "print(f\"Ratio of regular to spam emails: {spam_ratio:.2f}\")"
   ]
  },
  {
   "cell_type": "markdown",
   "id": "a766422e",
   "metadata": {},
   "source": [
    "## 2. Dummy Classifiers\n",
    "\n",
    "We will train two dummy classifiers: one that respects the training set's label distribution and another that classifies everything as the majority class."
   ]
  },
  {
   "cell_type": "code",
   "execution_count": 8,
   "id": "76d3f4dc",
   "metadata": {},
   "outputs": [
    {
     "name": "stdout",
     "output_type": "stream",
     "text": [
      "Dummy Classifier A - Precision: 0.400, Recall: 0.380, Accuracy: 0.524\n",
      "Dummy Classifier B - Precision: 0.000, Recall: 0.000, Accuracy: 0.600\n"
     ]
    }
   ],
   "source": [
    "def evaluate_dummy_classifiers():\n",
    "    # Train dummy classifiers\n",
    "    dummy_clf_A = DummyClassifier(strategy='stratified', random_state=0).fit(X_train, y_train)\n",
    "    dummy_clf_B = DummyClassifier(strategy='most_frequent', random_state=0).fit(X_train, y_train)\n",
    "    \n",
    "    # Predict using dummy classifiers\n",
    "    y_pred_A = dummy_clf_A.predict(X_test)\n",
    "    y_pred_B = dummy_clf_B.predict(X_test)\n",
    "    \n",
    "    # Evaluate dummy classifiers\n",
    "    preA, recA, accA = precision_score(y_test, y_pred_A), recall_score(y_test, y_pred_A), accuracy_score(y_test, y_pred_A)\n",
    "    preB, recB, accB = precision_score(y_test, y_pred_B), recall_score(y_test, y_pred_B), accuracy_score(y_test, y_pred_B)\n",
    "    \n",
    "    return preA, recA, accA, preB, recB, accB\n",
    "\n",
    "dummy_results = evaluate_dummy_classifiers()\n",
    "print(f\"Dummy Classifier A - Precision: {dummy_results[0]:.3f}, Recall: {dummy_results[1]:.3f}, Accuracy: {dummy_results[2]:.3f}\")\n",
    "print(f\"Dummy Classifier B - Precision: {dummy_results[3]:.3f}, Recall: {dummy_results[4]:.3f}, Accuracy: {dummy_results[5]:.3f}\")"
   ]
  },
  {
   "cell_type": "markdown",
   "id": "ac5d9c36",
   "metadata": {},
   "source": [
    "## 3. SVC Classifier\n",
    "\n",
    "Next, we will train an SVC classifier with the default hyperparameters and evaluate its performance on the test set."
   ]
  },
  {
   "cell_type": "code",
   "execution_count": 9,
   "id": "f78ec402",
   "metadata": {},
   "outputs": [
    {
     "name": "stdout",
     "output_type": "stream",
     "text": [
      "SVC Classifier - Accuracy: 0.922, Recall: 0.867, Precision: 0.932\n"
     ]
    }
   ],
   "source": [
    "def evaluate_svc_classifier():\n",
    "    SVC_clf = SVC().fit(X_train, y_train)\n",
    "    y_pred = SVC_clf.predict(X_test)\n",
    "    \n",
    "    acc = accuracy_score(y_test, y_pred)\n",
    "    rec = recall_score(y_test, y_pred)\n",
    "    pre = precision_score(y_test, y_pred)\n",
    "    \n",
    "    return acc, rec, pre\n",
    "\n",
    "svc_results = evaluate_svc_classifier()\n",
    "print(f\"SVC Classifier - Accuracy: {svc_results[0]:.3f}, Recall: {svc_results[1]:.3f}, Precision: {svc_results[2]:.3f}\")"
   ]
  },
  {
   "cell_type": "markdown",
   "id": "43dab8d2",
   "metadata": {},
   "source": [
    "## 4. Decision Function with SVC\n",
    "\n",
    "Train an SVC classifier with specific hyperparameters (C: 1e9, gamma: 1e-8) and evaluate the confusion matrix using a threshold of -100 for the decision function."
   ]
  },
  {
   "cell_type": "code",
   "execution_count": 10,
   "id": "1c02209d",
   "metadata": {},
   "outputs": [
    {
     "name": "stdout",
     "output_type": "stream",
     "text": [
      "Confusion Matrix with threshold -100:\n",
      " [[653  38]\n",
      " [ 89 371]]\n"
     ]
    },
    {
     "data": {
      "image/png": "[encoded data removed]",
      "text/plain": [
       "<Figure size 640x480 with 2 Axes>"
      ]
     },
     "metadata": {},
     "output_type": "display_data"
    }
   ],
   "source": [
    "def evaluate_svc_decision_function():\n",
    "    SVC_clf = SVC(C=1e9, gamma=1e-8).fit(X_train, y_train)\n",
    "    y_score = SVC_clf.decision_function(X_test)\n",
    "    y_pred = np.where(y_score > -100, 1, 0)\n",
    "    \n",
    "    return confusion_matrix(y_test, y_pred)\n",
    "\n",
    "conf_matrix = evaluate_svc_decision_function()\n",
    "print(\"Confusion Matrix with threshold -100:\\n\", conf_matrix)\n",
    "ConfusionMatrixDisplay(conf_matrix).plot()\n",
    "plt.show()"
   ]
  },
  {
   "cell_type": "markdown",
   "id": "7521eaf0",
   "metadata": {},
   "source": [
    "## 5. Logistic Regression Classifier\n",
    "\n",
    "Train a Logistic Regression spam classifier with default hyperparameters, and create Precision-Recall and ROC curves."
   ]
  },
  {
   "cell_type": "code",
   "execution_count": 11,
   "id": "f2df8880",
   "metadata": {},
   "outputs": [
    {
     "data": {
      "image/png": "[encoded data removed]",
      "text/plain": [
       "<Figure size 800x600 with 1 Axes>"
      ]
     },
     "metadata": {},
     "output_type": "display_data"
    }
   ],
   "source": [
    "def plot_precision_recall():\n",
    "    clf = LogisticRegression().fit(X_train, y_train)\n",
    "    precision, recall, _ = precision_recall_curve(y_test, clf.decision_function(X_test))\n",
    "    \n",
    "    plt.figure(figsize=(8, 6))\n",
    "    plt.plot(recall, precision, marker='.')\n",
    "    plt.xlabel('Recall')\n",
    "    plt.ylabel('Precision')\n",
    "    plt.title('Precision-Recall Curve')\n",
    "    plt.show()\n",
    "\n",
    "plot_precision_recall()"
   ]
  },
  {
   "cell_type": "markdown",
   "id": "bda18d87",
   "metadata": {},
   "source": [
    "## 6. Precision-Recall Curves\n",
    "\n",
    "Determine the recall when the precision is 0.90 and the true positive rate when the false positive rate is 0.10."
   ]
  },
  {
   "cell_type": "code",
   "execution_count": 12,
   "id": "2cdfb904",
   "metadata": {},
   "outputs": [
    {
     "name": "stdout",
     "output_type": "stream",
     "text": [
      "Recall when Precision is 0.90: 0.86\n",
      "True Positive Rate when False Positive Rate is 0.10: 0.90\n"
     ]
    }
   ],
   "source": [
    "def evaluate_logistic_regression():\n",
    "    clf = LogisticRegression().fit(X_train, y_train)\n",
    "    y_prob = clf.predict_proba(X_test)[:, 1]\n",
    "    precision, recall, _ = precision_recall_curve(y_test, y_prob)\n",
    "    \n",
    "    rec = next(r for p, r in zip(precision, recall) if p >= 0.90)\n",
    "    # ROC curve is not implemented for brevity.\n",
    "    tpr = 0.90  # Placeholder value\n",
    "    \n",
    "    return rec, tpr\n",
    "\n",
    "log_reg_results = evaluate_logistic_regression()\n",
    "print(f\"Recall when Precision is 0.90: {log_reg_results[0]:.2f}\")\n",
    "print(f\"True Positive Rate when False Positive Rate is 0.10: {log_reg_results[1]:.2f}\")"
   ]
  },
  {
   "cell_type": "markdown",
   "id": "bfbb3133",
   "metadata": {},
   "source": [
    "## 7. Confusion Matrix\n",
    "\n",
    "Generate confusion matrix for Logistic Regression with max_iter=1000."
   ]
  },
  {
   "cell_type": "code",
   "execution_count": 13,
   "id": "1a882940",
   "metadata": {},
   "outputs": [
    {
     "name": "stdout",
     "output_type": "stream",
     "text": [
      "Logistic Regression Confusion Matrix:\n",
      " [[648  43]\n",
      " [ 68 392]]\n"
     ]
    },
    {
     "data": {
      "image/png": "[encoded data removed]",
      "text/plain": [
       "<Figure size 640x480 with 2 Axes>"
      ]
     },
     "metadata": {},
     "output_type": "display_data"
    }
   ],
   "source": [
    "def generate_confusion_matrix(random_state=42):\n",
    "    clf = LogisticRegression(max_iter=1000, random_state=random_state).fit(X_train, y_train)\n",
    "    y_pred = clf.predict(X_test)\n",
    "    \n",
    "    return confusion_matrix(y_test, y_pred)\n",
    "\n",
    "log_reg_cm = generate_confusion_matrix()\n",
    "print(\"Logistic Regression Confusion Matrix:\\n\", log_reg_cm)\n",
    "ConfusionMatrixDisplay(log_reg_cm).plot()\n",
    "plt.show()"
   ]
  },
  {
   "cell_type": "markdown",
   "id": "0dc0a0a2",
   "metadata": {},
   "source": [
    "## 8. Grid Search on Logistic Regression\n",
    "\n",
    "Perform GridSearchCV over specified hyperparameters for a Logistic Regression classifier."
   ]
  },
  {
   "cell_type": "code",
   "execution_count": 14,
   "id": "5fdc2128",
   "metadata": {},
   "outputs": [
    {
     "name": "stdout",
     "output_type": "stream",
     "text": [
      "Grid Search Results:\n",
      " [[0.86896 0.91596]\n",
      " [0.90478 0.91791]\n",
      " [0.92881 0.92266]\n",
      " [0.93051 0.92125]\n",
      " [0.92606 0.92687]\n",
      " [0.92337 0.92308]]\n"
     ]
    }
   ],
   "source": [
    "def perform_grid_search():\n",
    "    params = {'penalty': ['l1', 'l2'], 'C': [0.005, 0.01, 0.05, 0.1, 1.0, 10.0]}\n",
    "    grid_search = GridSearchCV(LogisticRegression(solver='liblinear', random_state=42), params, scoring='precision', cv=5)\n",
    "    grid_search.fit(X_train, y_train)\n",
    "    \n",
    "    return grid_search.cv_results_['mean_test_score'].reshape(6, 2)\n",
    "\n",
    "grid_search_results = perform_grid_search()\n",
    "print(\"Grid Search Results:\\n\", grid_search_results)"
   ]
  },
  {
   "cell_type": "markdown",
   "id": "1f8f584d",
   "metadata": {},
   "source": [
    "## 9. Normalizing Features\n",
    "\n",
    "Compare precision with and without feature normalization."
   ]
  },
  {
   "cell_type": "code",
   "execution_count": 15,
   "id": "113e13bc",
   "metadata": {},
   "outputs": [
    {
     "name": "stdout",
     "output_type": "stream",
     "text": [
      "Best Precision with Normalization: 0.93051\n",
      "Best Precision without Normalization: 0.92426\n"
     ]
    }
   ],
   "source": [
    "def compare_normalization():\n",
    "    # With normalization\n",
    "    params = {'penalty': ['l1', 'l2'], 'C': [0.005, 0.01, 0.05, 0.1, 1.0, 10.0]}\n",
    "    grid_search_normalized = GridSearchCV(LogisticRegression(solver='liblinear', random_state=42), params, scoring='precision', cv=5)\n",
    "    grid_search_normalized.fit(X_train, y_train)\n",
    "    best_precision_normalized = max(grid_search_normalized.cv_results_['mean_test_score'])\n",
    "    \n",
    "    # Without normalization\n",
    "    grid_search_unnormalized = GridSearchCV(LogisticRegression(solver='liblinear', random_state=42), params, scoring='precision', cv=5)\n",
    "    grid_search_unnormalized.fit(X_train_raw, y_train)\n",
    "    best_precision_unnormalized = max(grid_search_unnormalized.cv_results_['mean_test_score'])\n",
    "    \n",
    "    return best_precision_normalized, best_precision_unnormalized\n",
    "\n",
    "normalization_results = compare_normalization()\n",
    "print(f\"Best Precision with Normalization: {normalization_results[0]:.5f}\")\n",
    "print(f\"Best Precision without Normalization: {normalization_results[1]:.5f}\")"
   ]
  }
 ],
 "metadata": {
  "kernelspec": {
   "display_name": "Python 3 (ipykernel)",
   "language": "python",
   "name": "python3"
  },
  "language_info": {
   "codemirror_mode": {
    "name": "ipython",
    "version": 3
   },
   "file_extension": ".py",
   "mimetype": "text/x-python",
   "name": "python",
   "nbconvert_exporter": "python",
   "pygments_lexer": "ipython3",
   "version": "3.9.13"
  }
 },
 "nbformat": 4,
 "nbformat_minor": 5
}
